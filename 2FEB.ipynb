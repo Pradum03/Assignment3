{
 "cells": [
  {
   "cell_type": "markdown",
   "id": "44cbe8de-934e-4b7c-acda-baed85e410ea",
   "metadata": {},
   "source": [
    "Assignment 3"
   ]
  },
  {
   "cell_type": "markdown",
   "id": "29d7b151-02a5-4712-a636-bf82b291c707",
   "metadata": {},
   "source": [
    "1. Tuples are a data structure in Python that represent a collection of ordered, heterogeneous elements. The following are the main characteristics of tuples:\n",
    "\n",
    "Ordered: The elements in a tuple have a defined order, and this order is maintained when the tuple is iterated over.\n",
    "\n",
    "Heterogeneous: Tuples can contain elements of different data types, including other tuples, in the same collection.\n",
    "\n",
    "Immutable: Once a tuple is created, its elements cannot be changed or modified. This makes tuples useful for representing data that should not change, such as dates, coordinates, or fixed sets of information.\n",
    "\n",
    "Supports indexing and slicing: Tuples support both indexing and slicing, allowing you to access specific elements or ranges of elements within the tuple.\n",
    "\n",
    "Can be used as keys in dictionaries: Since tuples are immutable, they can be used as keys in dictionaries, while lists cannot be used as keys because they are mutable.\n",
    "\n",
    "In conclusion, tuples are indeed immutable, meaning that their elements cannot be changed once the tuple is created.\n",
    "\n",
    "\n",
    "2. Tuples have two built-in methods in Python:\n",
    "\n",
    "count(): This method returns the number of times a specific value appears in the tuple.\n",
    "Example:\n",
    "t = (1, 2, 3, 2, 4, 2)\n",
    "print(t.count(2))\n",
    "# Output: 3\n",
    "\n",
    "index(): This method returns the index of the first occurrence of a specific value in the tuple.\n",
    "Example:\n",
    "t = (1, 2, 3, 4, 5)\n",
    "print(t.index(3))\n",
    "# Output: 2\n",
    "\n",
    "Tuples have fewer built-in methods than lists because they are meant to be simple, lightweight data structures that represent a fixed collection of elements. Lists, on the other hand, are more flexible and are meant to support a wider range of operations, such as adding and removing elements. As a result, lists have more built-in methods to support these operations, while tuples have only a limited number of methods that allow you to access and manipulate their elements.\n",
    "\n",
    "3. The collection datatype in Python that does not allow duplicate items is a set.\n"
   ]
  },
  {
   "cell_type": "code",
   "execution_count": 2,
   "id": "495f763f-9e31-4740-8905-a0d384a82100",
   "metadata": {},
   "outputs": [
    {
     "data": {
      "text/plain": [
       "{1, 2, 3, 4}"
      ]
     },
     "execution_count": 2,
     "metadata": {},
     "output_type": "execute_result"
    }
   ],
   "source": [
    "List = [1, 1, 1, 2, 1, 3, 1, 4, 2, 1, 2, 2, 2, 3, 2, 4, 3, 1, 3, 2, 3, 3, 3, 4, 4, 1, 4, 2, 4, 3, 4, 4]\n",
    "unique_set = set(List)\n",
    "unique_set\n"
   ]
  },
  {
   "cell_type": "markdown",
   "id": "da8a9869-3863-4ef3-9ad1-62239e8c16d7",
   "metadata": {},
   "source": [
    "4.In Python, union() and update() are two methods that can be used to combine two sets.\n",
    "\n",
    "union() method returns a new set that contains all elements from the original set and all elements from the specified set. It does not modify the original set.\n",
    "\n",
    "Example:\n",
    ">>> set1 = {1, 2, 3}\n",
    ">>> set2 = {3, 4, 5}\n",
    ">>> set3 = set1.union(set2)\n",
    ">>> print(set3)\n",
    "{1, 2, 3, 4, 5}\n",
    ">>> print(set1)\n",
    "{1, 2, 3}\n",
    "\n",
    "update() method adds all elements from the specified set to the original set. It modifies the original set.\n",
    "\n",
    "Example:\n",
    ">>> set1 = {1, 2, 3}\n",
    ">>> set2 = {3, 4, 5}\n",
    ">>> set1.update(set2)\n",
    ">>> print(set1)\n",
    "{1, 2, 3, 4, 5}\n",
    "\n",
    "5. In Python, a dictionary is an unordered collection of key-value pairs. Each key maps to a value and keys must be unique. Dictionaries are mutable and can be used to store collections of data in a more organized way.\n",
    "\n",
    ">>> my_dict = {'name': ‘Aman’, 'age': 22, 'city':’ Kanpur'}\n",
    ">>> print(my_dict)\n",
    "{'name': ‘Aman’, 'age': 22, 'city': 'Kanpur'}\n",
    "\n",
    "A dictionary is unordered, which means that the items have no index and the order in which they are added to the dictionary is not preserved. The order of items in a dictionary may change when you modify the dictionary, and it may be different each time you run your program.\n",
    "\n",
    "\n",
    "6. Yes we can create a nested dictionary.\n",
    "example:\n",
    ".Dictionary={\n",
    "'dict1':{1:'Name',2:'Roll_No',3:'Age'},\n",
    "'dict2': {1:'DOB',2:'Hobby',3:'Birth_Place'}\n",
    " }\n",
    "\n",
    "7."
   ]
  },
  {
   "cell_type": "code",
   "execution_count": 3,
   "id": "48454a89-0767-41d7-b737-dc4137fef603",
   "metadata": {},
   "outputs": [
    {
     "name": "stdout",
     "output_type": "stream",
     "text": [
      "{'language': 'Python', 'course': 'Data Science Masters', 'topics': ['Python', 'Machine Learning', 'Deep Learning']}\n"
     ]
    }
   ],
   "source": [
    "dict1 = {'language' : 'Python', 'course': 'Data Science Masters'}\n",
    "\n",
    "dict1.setdefault('topics', ['Python', 'Machine Learning', 'Deep Learning'])\n",
    "\n",
    "print(dict1)\n"
   ]
  },
  {
   "cell_type": "markdown",
   "id": "ee4ddeb4-14f3-487b-93f4-26893878c4f2",
   "metadata": {},
   "source": [
    "8. In Python, dictionaries have three view objects:\n",
    "\n",
    "dict.keys(): Returns a view object that displays a list of all the keys in the dictionary.\n",
    "\n",
    "dict.values(): Returns a view object that displays a list of all the values in the dictionary.\n",
    "\n",
    "dict.items(): Returns a view object that displays a list of all the key-value pairs in the dictionary as tuples.\n"
   ]
  },
  {
   "cell_type": "code",
   "execution_count": 4,
   "id": "0c40b73f-2854-450c-8d42-12de5ea5ff88",
   "metadata": {},
   "outputs": [
    {
     "data": {
      "text/plain": [
       "dict_keys(['Sport', 'Teams'])"
      ]
     },
     "execution_count": 4,
     "metadata": {},
     "output_type": "execute_result"
    }
   ],
   "source": [
    "dict1 = {'Sport': 'Cricket' , 'Teams': ['India', 'Australia', 'England', 'South Africa', 'Sri Lanka', 'New Zealand']}\n",
    "dict1.keys()"
   ]
  },
  {
   "cell_type": "code",
   "execution_count": 5,
   "id": "989ec38c-44cf-47f0-b3d8-55b704de82d9",
   "metadata": {},
   "outputs": [
    {
     "data": {
      "text/plain": [
       "dict_values(['Cricket', ['India', 'Australia', 'England', 'South Africa', 'Sri Lanka', 'New Zealand']])"
      ]
     },
     "execution_count": 5,
     "metadata": {},
     "output_type": "execute_result"
    }
   ],
   "source": [
    "dict1.values()"
   ]
  },
  {
   "cell_type": "code",
   "execution_count": 6,
   "id": "0f0da10f-88b0-4e86-9485-fa718a6d969c",
   "metadata": {},
   "outputs": [
    {
     "data": {
      "text/plain": [
       "dict_items([('Sport', 'Cricket'), ('Teams', ['India', 'Australia', 'England', 'South Africa', 'Sri Lanka', 'New Zealand'])])"
      ]
     },
     "execution_count": 6,
     "metadata": {},
     "output_type": "execute_result"
    }
   ],
   "source": [
    "dict1.items()"
   ]
  },
  {
   "cell_type": "code",
   "execution_count": null,
   "id": "8a308398-ba08-49ad-999d-dd864205af22",
   "metadata": {},
   "outputs": [],
   "source": []
  }
 ],
 "metadata": {
  "kernelspec": {
   "display_name": "Python 3 (ipykernel)",
   "language": "python",
   "name": "python3"
  },
  "language_info": {
   "codemirror_mode": {
    "name": "ipython",
    "version": 3
   },
   "file_extension": ".py",
   "mimetype": "text/x-python",
   "name": "python",
   "nbconvert_exporter": "python",
   "pygments_lexer": "ipython3",
   "version": "3.10.8"
  }
 },
 "nbformat": 4,
 "nbformat_minor": 5
}
